{
 "cells": [
  {
   "cell_type": "markdown",
   "metadata": {},
   "source": [
    "# Supervised Learning - Neural Networks"
   ]
  },
  {
   "cell_type": "markdown",
   "metadata": {},
   "source": [
    "> #### Linear Separability\n",
    "> When two sets can be separated by a flat line/plane.\n",
    "\n",
    "### Example of Non-linear separable example:\n",
    "#### The XOR problem\n",
    "`x1 x2 f\n",
    "0  0  0\n",
    "0  1  1\n",
    "1  0  1\n",
    "1  1  0`"
   ]
  },
  {
   "cell_type": "markdown",
   "metadata": {},
   "source": [
    "## Multi-layer Perceptron a.k.a Neural Network\n",
    "Connected Perceptron's where one neuron feeds to several neurons in the next layer.\n",
    "\n",
    "> CAREFUL! In some textbooks, the input features count as a \"layer\" of the network. So 3-layer networks might actually be 2-layer!"
   ]
  },
  {
   "cell_type": "markdown",
   "metadata": {},
   "source": [
    "## Simple Example:\n",
    "Only 1 feature.\n",
    "\n",
    "`Y: o o o x x x o o o\n",
    "X: 1 2 3 4 5 6 7 8 9`\n",
    "\n",
    "This is not linearly separable! BUT is separable by a non-linear function!\n",
    "\n",
    "$f(x;w_0,...,w_n) = \\{_{-1, |x|>1}^{1, |x| < 1}$\n",
    "\n",
    "This can be solved by having two neurons in a hidden layer between input and output-neuron: one with a sign(1+x) function and one with a sign(1-x) function! All the output-neuron has to do is add the two functions together and voila!\n",
    "\n",
    "So what does this network actually do? Well, effectively the hidden layer puts the input into a linearly separable two-dimensional space! (two neurons, two outputs, two dimensions)\n",
    "\n",
    "# THE PURPOSE FOR ALL LAYERS IS THAT THE FINAL LAYER SHOULD BE ABLE TO LINEARLY SEPARATE THE CLASSES\n",
    "\n",
    "<b>Cover's Theorem:</b> The probability that classes are linearly separable increases when the features are nonlinearly mapped to a higher-dimensional feature space."
   ]
  },
  {
   "cell_type": "markdown",
   "metadata": {},
   "source": [
    "## The Perceptron\n",
    "\n",
    "$\\epsilon(\\vec{w}) = \\sum_{i=1}^{N}(\\sigma(\\vec{w}^T\\vec{x}_i)-y_i)^2$\n",
    "\n",
    "### Different nonlinear activation functions\n",
    "- Step/sign function: non-differentiable!\n",
    "- Hyperbolic tangent\n",
    "    \n",
    "    $\\sigma(s) = \\tanh(s)$\n",
    "    \n",
    "- The Fermi-function\n",
    "    \n",
    "    $\\sigma(s) = \\frac{1}{1+e^{-s}}$\n",
    "    \n",
    "- Gaussian function\n",
    "    \n",
    "    $\\sigma(s;\\gamma) = e^{\\frac{s^2}{\\gamma^2}}$\n",
    "    \n",
    "> Using non-linear activation-functions makes classifying easier, as it will be less affected by some data-points lying vary far from the separation-line.\n",
    "    \n",
    "### Example: Radial Basis Function\n",
    "(same example as before)\n",
    "\n",
    "A gaussian function can immediately map the values in 1 dimensions in a separable manner."
   ]
  },
  {
   "cell_type": "markdown",
   "metadata": {},
   "source": [
    "## Updated Minimization algorithm\n",
    "\n",
    "$\\epsilon(\\vec{w}) = \\sum_{i=1}^{N}(\\sigma(\\vec{w}^T\\vec{x}_i)-y_i)^2$\n",
    "\n",
    "$\\frac{\\partial\\epsilon}{\\partial\\vec{w}} = 2\\sum_{i=1}^{N}(\\sigma(\\vec{w}^T\\vec{x}_i)-y_i)\\sigma'(\\vec{w}^T\\vec{x}_i)\\vec{x}_i$\n",
    "\n",
    "Gradient descent:\n",
    "\n",
    "$\\vec{w}^{(t+1)} \\leftarrow \\vec{w}^{(t)} \\pm{} \\eta$ $\\frac{\\partial\\epsilon}{\\partial{}\\vec{w}}$"
   ]
  },
  {
   "cell_type": "markdown",
   "metadata": {},
   "source": [
    "## Training Multi-Layer Networks\n",
    "Cost function:\n",
    "\n",
    "$\\epsilon(\\vec{w}) = \\sum_{k=1}^K\\sum_{m=1}^K(y_{mk} - z_{mk}(\\vec{w}))^2$\n",
    "\n",
    "$\\vec{w}$ is all weights, $K$ is number of training examples, $M$ is number of output nodes, $y$ is desired output, $z$ is actual output."
   ]
  },
  {
   "cell_type": "markdown",
   "metadata": {},
   "source": [
    "> <b>This has become too math-heavy: follow the lecture notes for vital information</b>"
   ]
  },
  {
   "cell_type": "markdown",
   "metadata": {},
   "source": [
    "This can be simplified by removing one summation: simply running one sample at a time and updating the weights from only that sample:\n",
    "\n",
    "### Stochastic gradient descent\n",
    "\n",
    "$\\epsilon(\\vec{w}) = \\sum_{m=1}^K(y_{m} - z_{m}(\\vec{w}))^2$\n",
    "\n",
    "\n",
    "$\\vec{w}_{ij}^{(t+1)} \\leftarrow \\vec{w}_{ij}^{(t)} \\pm{} \\eta$ $\\frac{\\partial\\epsilon}{\\partial{}\\vec{w}_{ij}}$\n",
    "\n",
    "Called stochastic as a single random sample is a randomly good estimator for the total dataset. The $ij$ stands for from node $i$ to node $j$."
   ]
  },
  {
   "cell_type": "markdown",
   "metadata": {},
   "source": [
    "## Training the Network:\n",
    "Back-propagate differentialization! <b>SEE LECTURE SLIDES</b>"
   ]
  },
  {
   "cell_type": "markdown",
   "metadata": {},
   "source": [
    "## Pros & Cons of Neural Networks\n",
    "- A multi-layered network can theoretically learn any class boundary.\n",
    "- The large number of parameters is a problem:\n",
    "    - Local optima at high risk => suboptimal performance\n",
    "    - Overfitting is easy => poor generalization\n",
    "    - The convergence is slow => long training times"
   ]
  },
  {
   "cell_type": "markdown",
   "metadata": {},
   "source": [
    "## Preventing Overfitting: Early Stopping\n",
    "Look at performance on training data and performance on validation-data at the same time. When validation-data start being scored worse than a previous iteration: STOP!"
   ]
  },
  {
   "cell_type": "code",
   "execution_count": 19,
   "metadata": {},
   "outputs": [
    {
     "data": {
      "image/png": "[encoded data removed]",
      "text/plain": [
       "<Figure size 432x288 with 1 Axes>"
      ]
     },
     "metadata": {},
     "output_type": "display_data"
    }
   ],
   "source": [
    "import matplotlib.pyplot as plt\n",
    "import numpy as np\n",
    "import math\n",
    "\n",
    "X = np.arange(1, 100)\n",
    "Y = [5-math.log(i)**0.5 for i in X]\n",
    "Y2 = [5-math.log(i)**0.5 + (i/100)**2 for i in X]\n",
    "plt.plot(X, Y, label = 'training error')\n",
    "plt.plot(X, Y2, label = 'validation error')\n",
    "plt.legend()\n",
    "plt.show()"
   ]
  },
  {
   "cell_type": "markdown",
   "metadata": {},
   "source": [
    "This is why we need 3 datasets: training, validation, and testing, since the validation-data will also be used for training."
   ]
  },
  {
   "cell_type": "markdown",
   "metadata": {},
   "source": [
    "## For Faster Convergence\n",
    "Some tips for making the network converge faster:\n",
    "\n",
    "- Normalize input features to the range [-1, 1] or at least to the same scale as each other.\n",
    "- Separate and adaptive step length for each weight;\n",
    "    - If the derivative has the same sign in several consecutive steps, step length should increase. If the sign changes, instead decrease the step length.\n",
    "- Introduce a <i>momentum term</i>, e.g. include a part of the previous update in the new update."
   ]
  },
  {
   "cell_type": "markdown",
   "metadata": {},
   "source": [
    "## How many layers?\n",
    "- One layer is enough to produce any classification boundary.\n",
    "- Complex boundaries needs fewer nodes if you have more layers.\n",
    "- With ordinary backpropagation training (as seen here) there is no real advantage to more than 3 layers because of the vanishing gradient problem (the magnitude of the error is decreased each layer).\n",
    "- Modifications of activation functions or the like enable many layers => DEEP LEARNING."
   ]
  }
 ],
 "metadata": {
  "kernelspec": {
   "display_name": "Python [conda env:TensorFlow]",
   "language": "python",
   "name": "conda-env-TensorFlow-py"
  },
  "language_info": {
   "codemirror_mode": {
    "name": "ipython",
    "version": 3
   },
   "file_extension": ".py",
   "mimetype": "text/x-python",
   "name": "python",
   "nbconvert_exporter": "python",
   "pygments_lexer": "ipython3",
   "version": "3.5.5"
  }
 },
 "nbformat": 4,
 "nbformat_minor": 2
}
