{
 "cells": [
  {
   "cell_type": "markdown",
   "metadata": {},
   "source": [
    "# Convolutional Neural Networks"
   ]
  },
  {
   "cell_type": "markdown",
   "metadata": {},
   "source": [
    "When data is not lineaerly separable, we can solve it by introducing more features. For instance, ponder the XOR problem. If we could use a third dimension, it would probably be easily separable as long as all points aren't just sitting on a plane."
   ]
  },
  {
   "cell_type": "markdown",
   "metadata": {},
   "source": [
    "### How to get new features?\n",
    "1. <b>Feature Engineering:</b> Manually engineer new features using expert knowledge. (InterPep)\n",
    "2. <b>Feature Learning</b> Make the model sensitive to parameters such that learning these parameters identifies a good representation."
   ]
  },
  {
   "cell_type": "markdown",
   "metadata": {},
   "source": [
    "## Convolutional Networks\n",
    "What happens with the weigths $\\theta$ with image-input? It becomes huuuuuge, since its dimensions is the number of inputs times the number of nodes it will pass the input to. This, of course, is unfeasable because of the sheer number of weights.\n",
    "\n",
    "- CNN is suitable for data with known, grid-like topology\n",
    "    - Time series\n",
    "    - Images \"tensors\"\n",
    "    - Medical data\n",
    "\n",
    "\"Convolutional networks are simply neural networks that use convolution in place of general matrix multiplication in at least one of their layers.\"\n",
    "\n",
    "> Aleays try to be accurate with which dimension in which! Indexing can soon become a nightmare if not treated correctly!\n",
    "\n",
    "Convolution works by shifting your kernel over the data and recording the scalar output.\n",
    "\n",
    "> CNN use <u>correlation</u>, not convolution! (there is a flipping step in colvolution which is not done in CNN, because it is unneccesary when you have learned weights."
   ]
  },
  {
   "cell_type": "markdown",
   "metadata": {},
   "source": [
    "## Convolution\n",
    "When using convolution, most weights in $\\theta$ will be zero. Only closeby values will be regarded.\n",
    "\n",
    "### How do we deal with data at edges?\n",
    "For instance, say we apply weights to two positions back and two positions forward:\n",
    "- We could set outside values to undefined (\"valid convolution\"), which means your feature map will shrink each step.\n",
    "- We could assume all non-existant values are 0\n",
    "- We could assume a \"circular\" matrix (the last value of row one leads to the first value of row 2) (\"periodic\")\n",
    "\n",
    "## 2D-convolution\n",
    "Images become feature maps, both input and output. Sliding out kernel (which could, for instance be a 2x2 window).\n",
    "\n",
    "### Block circulant\n",
    "A repetitions of matrices, offset by 1 each new row:\n",
    "\n",
    "```\n",
    "M1 M2\n",
    "   M1 M2\n",
    "      M1 M2\n",
    "```"
   ]
  },
  {
   "cell_type": "markdown",
   "metadata": {},
   "source": [
    "## Motivation of CNNs\n",
    "1. Sparse (and local) interaction\n",
    "2. Parameter sharing\n",
    "3. Equivariant representation\n",
    "\n",
    "### Sparse (and local) interaction\n",
    "Ponder a kernel of size 3:\n",
    "```\n",
    "1 2 3 4 5 INPUT\n",
    "|X|X|X|X|\n",
    "1 2 3 4 5 OUTPUT\n",
    "```\n",
    "\n",
    "Input 3 only affects output value 2, 3, and 5. In a regular neural net, all inputs would affect all outputs.\n",
    "\n",
    "Downside: output 1 will never see data from input 3. Solution: MORE LAYERS\n",
    "```\n",
    "1 2 3 4 5 INPUT\n",
    "|X|X|X|X|\n",
    "1 2 3 4 5 HIDDEN\n",
    "|X|X|X|X|\n",
    "1 2 3 4 5 OUTPUT\n",
    "```\n",
    "\n",
    "\n",
    "- fewer parameters\n",
    "- lower memory requirements\n",
    "- better statistical efficiency\n",
    "- fewer operations\n",
    "- increased depth can still indirectly connect all input\n",
    "\n",
    "### Parameter sharing\n",
    "Using tied weights! Meaning all `|` lines in a row could share weights for instance. (or all `/` lines)\n",
    "\n",
    "- Reduced storage requirements\n",
    "- same time complexity\n",
    "- sometimes sharing should be limited. Perhaps the edges if an image should have special weights\n",
    "\n",
    "> Receptor field of output neuron X is the input neurons Y which eventually have their output come to X.\n",
    "\n",
    "You could also \"tile\" parameters. For instance, maybe every second vertical connection share their weights, or every third.\n",
    "\n",
    "### Equivariant Convolution\n",
    "- A function $f$ is <b>invariant</b> under operation $g$ if:\n",
    "    - applying $g$ to the input of $f$ does not change its output\n",
    "    - different inputs (modulo $g$) have different outputs\n",
    "- A function $f$ is <b>equivariant</b> under operation $g$ if:\n",
    "    - applying $g$ to the input if $f$ changes its output by $\\tilde{g}$ (a different way to describe $g$). A shift of input will equally shift the output.\n",
    "    - different inputs have different outputs\n",
    "\n",
    "Easy for discrete shift operations, more tricky for rotation and scaling."
   ]
  },
  {
   "cell_type": "markdown",
   "metadata": {},
   "source": [
    "---\n",
    "\n",
    "## Network Layers\n",
    "Each layer consists of 3 stages:\n",
    "1. calculate convolutions\n",
    "2. detector stage (activation function)\n",
    "3. pooling function\n",
    "\n",
    "> Complex layer terminology: one layer is one repetition of these three steps\n",
    ">\n",
    "> Simple layer terminology: each step is one layer\n",
    "\n",
    "### Pooling\n",
    "Summary statistics of nearby outputs\n",
    "- Max Pooling: maximum output in rectangular region. THIS is what makes CNN work properly\n",
    "- Average Pooling. THIS sucks.\n",
    "- L2 norm\n",
    "- weighted average pooling (based on distance from central position)\n",
    "\n",
    "Pooling is approximately invariant to small translations\n",
    "\n",
    "#### Pooling and Invariance\n",
    "In max-pooling there is local invariance: low amounts of errors will not affect output locally (a pooled trio [1 2 4] gives 4, just as [2 1 4] gives 4).\n",
    "\n",
    "### Bias Terms\n",
    "An offset term, could be shared, could be tiled, could be individual."
   ]
  },
  {
   "cell_type": "markdown",
   "metadata": {},
   "source": [
    "---\n",
    "\n",
    "## Strided Pooling\n",
    "Pooling $s$ pixels apart instead of every pixel\n",
    "\n",
    "```\n",
    "  1   2   3 OUTPUT\n",
    " /|\\ /|\\ /|\n",
    "1 2 3 4 5 6 INPUT\n",
    "```\n",
    "\n",
    "- improved statistical efficiency\n",
    "- reduced memory requirements\n",
    "- handling inputs of varying size (you adapt the stride size to the size of the image, rather than using a fixed stride. Twice the image size: twize the stride step length)\n",
    "- BUT: pooling ands strides complicate top-down process (e.g. auto-encoders)\n",
    "\n",
    "## Strided Convolution\n",
    "Similar but for convolution. Good way of down-sampling.\n",
    "\n",
    "## Zero-padding\n",
    "If you use \"valid convolution\", each layer will shrink one point at a time, and the only neuron which have all inputs in its receptor field will be the last one left if you go all the way down to only 1. Zero-padding, where you use the same convolution for all and just introduce zeroes if values are missing, solves this.\n",
    "\n",
    "## Activation Function"
   ]
  },
  {
   "cell_type": "code",
   "execution_count": 9,
   "metadata": {},
   "outputs": [
    {
     "data": {
      "image/png": "[encoded data removed]",
      "text/plain": [
       "<Figure size 432x288 with 1 Axes>"
      ]
     },
     "metadata": {},
     "output_type": "display_data"
    }
   ],
   "source": [
    "import matplotlib.pyplot as plt\n",
    "import numpy as np\n",
    "import math\n",
    "\n",
    "X = np.arange(-6, 7)\n",
    "Y = [1/(1+math.e**(-i)) for i in X]\n",
    "\n",
    "plt.plot(X, Y)\n",
    "plt.show()"
   ]
  },
  {
   "cell_type": "markdown",
   "metadata": {},
   "source": [
    "### Softmax layer\n",
    "\n",
    "$y_i = \\frac{\\exp{z_i}}{\\sum_j\\exp{z_i}}$\n",
    "\n",
    "MOST POWERFUL NETWORK: RECTIFIED LINEAR UNIT\n",
    "\n",
    "$f(z) = \\{\\frac{0, z < 0}{z, z > 0}$"
   ]
  },
  {
   "cell_type": "markdown",
   "metadata": {},
   "source": [
    "## Loss Function\n",
    "Difference to optimization: In optimization we know all the data, and we want to overfit to it. In machine learning, we don't know all the data.\n",
    "\n",
    "Expected loss:\n",
    "\n",
    "$J(\\vec{\\theta}) = \\int L(\\phi(\\vec{x}^T\\vec{\\theta}), y) p(\\vec{x}) d\\vec{x}$\n",
    "\n",
    "Maximum-likelyhood estimations on gaussian distributions"
   ]
  }
 ],
 "metadata": {
  "kernelspec": {
   "display_name": "Python [conda env:TensorFlow]",
   "language": "python",
   "name": "conda-env-TensorFlow-py"
  },
  "language_info": {
   "codemirror_mode": {
    "name": "ipython",
    "version": 3
   },
   "file_extension": ".py",
   "mimetype": "text/x-python",
   "name": "python",
   "nbconvert_exporter": "python",
   "pygments_lexer": "ipython3",
   "version": "3.5.5"
  }
 },
 "nbformat": 4,
 "nbformat_minor": 2
}
