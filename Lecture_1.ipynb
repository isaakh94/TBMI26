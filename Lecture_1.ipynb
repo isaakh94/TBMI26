{
 "cells": [
  {
   "cell_type": "markdown",
   "metadata": {},
   "source": [
    "# Neuronnät och Lärande System"
   ]
  },
  {
   "cell_type": "markdown",
   "metadata": {},
   "source": [
    "## Practical Information\n",
    "\n",
    "Classes: 3 groups {ABC} <b>B</b> - Pen&Paper, mostly calculus.\n",
    "\n",
    "Labs: 4 groups {1234} <b>3</b> - Very latest Deadline <u>15/3</u>, complete as fast as possible though. Labs may take more than 4 hours! Use the assigned sessions to ask questions and <u>be prepared</u>! If you need extra help, you can ask about lab assignment questions during classes.\n",
    "\n",
    "Most labs in MatLab :(\n",
    "\n",
    "Course Literature: Only lecture notes."
   ]
  },
  {
   "cell_type": "markdown",
   "metadata": {},
   "source": [
    ">## READ UP ON\n",
    "\n",
    ">Linear Algebra (eigenvalues)\n",
    "\n",
    ">Multidimensional Calculus (partial derivatives)"
   ]
  },
  {
   "cell_type": "markdown",
   "metadata": {},
   "source": [
    "# Machine Learning"
   ]
  },
  {
   "cell_type": "markdown",
   "metadata": {},
   "source": [
    "Changing parameter values (behavior) as a result of observed data (experience)."
   ]
  },
  {
   "cell_type": "code",
   "execution_count": 25,
   "metadata": {},
   "outputs": [
    {
     "data": {
      "image/png": "[encoded data removed]",
      "text/plain": [
       "<Figure size 432x288 with 1 Axes>"
      ]
     },
     "metadata": {},
     "output_type": "display_data"
    }
   ],
   "source": [
    "import matplotlib.pyplot as plt\n",
    "import numpy as np\n",
    "\n",
    "x = range(0, 20)\n",
    "y = [-(i-10)**2+10 for i in x]\n",
    "plt.ylabel('performance')\n",
    "plt.xlabel('parameters')\n",
    "plt.plot(x, y)\n",
    "plt.scatter([x[13], x[16]], [y[13], y[16]])\n",
    "plt.arrow(x[16], y[16], -2.2, 20, head_width = 1.0, head_length = 5.0)\n",
    "plt.show()"
   ]
  },
  {
   "cell_type": "markdown",
   "metadata": {},
   "source": [
    "## Why machine learning?\n",
    "\n",
    "- In higher-dimensional spaces, humans quickly begin to struggle. \n",
    "- If we want a program that continually develops and adapts to new situations.\n",
    "\n",
    "## Three main categories of machine learning\n",
    "\n",
    "1. Supervised Learning (predictive learning) where the system tries to generalize and predict labels of new data based on labeled old data.\n",
    "2. Unsupervised Learning (descriptive) Discover structure and relationships in complex data.\n",
    "3. Reinforcement Learning (active) Learning by doing."
   ]
  },
  {
   "cell_type": "markdown",
   "metadata": {},
   "source": [
    "## Concepts:\n",
    "\n",
    "#### Features\n",
    "A feature is a measurement or scalar number that describes some aspect of a phenomenon or object: size, length, intensity, colour, position, signal frequency, sensor measurements, game piece present at certain location, word present in text, shape complementarity, etc..\n",
    "\n",
    "Feature extraction is the process of measuring features from the data.\n",
    "\n",
    "> Fun feature for document analysis: <u>Bag-of-words model:</u> the feature vector is how many times certain words appear within the document.\n",
    "\n",
    "<i>Feature space</i>: use features as dimensions to produce a feature space.\n",
    "\n",
    "#### Representation\n",
    "Certain feature-vectors or spaces can be represented in different ways.\n",
    "\n",
    "Ponder for instance you have two features and two distributions. One way to represent this data would be to project it on one of the axises. Depending on what axis chosen and the orientation of the clusters in respect to each other can have large impact on how easy the solution will be."
   ]
  },
  {
   "cell_type": "markdown",
   "metadata": {},
   "source": [
    "## Supervised Learning\n",
    "<b>Task:</b> Learn to predict/classify new data from labeled examples.\n",
    "\n",
    "<b>Input:</b> Training data examples $\\{x_i, y_i\\}, i=1...N$ with labels $\\Omega$\n",
    "\n",
    "<b>Output:</b> A function of $f(x;w_1,...,w_k) => \\Omega$ where $x$ is an input vector of features, $w_1,...,w_k$ is a bunch of weights or parameters previously set by the machine learning, and $\\Omega$ is the output label."
   ]
  },
  {
   "cell_type": "markdown",
   "metadata": {},
   "source": [
    "- Classification: Select one of discrete set of classes (the set $\\Omega$ is discrete)\n",
    "- Regression: Learn to predict a continuous variable ($\\Omega \\in $<b>R</b>)\n",
    "- Ranking: Learn to rank a set of items ($\\Omega \\in $<b>R</b>)"
   ]
  },
  {
   "cell_type": "markdown",
   "metadata": {},
   "source": [
    "# k-Nearest Neighbours (k-NN)"
   ]
  },
  {
   "cell_type": "markdown",
   "metadata": {},
   "source": [
    "1. Save all training data.\n",
    "2. For a new case, find similar examples among the training data.\n",
    "\n",
    "    This requires a similarity metric. A common one is the Euclidian distance:\n",
    "\n",
    "    $||x - y|| = \\sqrt{\\sum_{i}(x_i - y_i)^2}$\n",
    "\n",
    "3. A majority vote among the $k$ nearest neighbours decides the class, where $k$ can be 1, 2, 3, 4, ..."
   ]
  },
  {
   "cell_type": "markdown",
   "metadata": {},
   "source": [
    "#### PROS\n",
    "- Very simple, no \"training\" or model required\n",
    "\n",
    "#### CONS\n",
    "- Must store all data, might be a problem with large datasets"
   ]
  },
  {
   "cell_type": "markdown",
   "metadata": {},
   "source": [
    "## Confusion Matrix\n",
    "\n",
    "A matrix with columns of predicted class and rows of actual class which counts when we predict correctly (diagonal) and when we do it incorrectly (all other numbers). Useful to compute stuff like accuracy."
   ]
  },
  {
   "cell_type": "markdown",
   "metadata": {},
   "source": [
    "## Generalizability\n",
    "Your classifier should be able to generalize to previously unsees data, not only own training data. This makes <b>validation</b> necessary. Different ways to validate:\n",
    "\n",
    "- Hold-out: just take some data to validate with rather than train on\n",
    "- n-fold Cross-Validation: shift which block you hold-out\n",
    "- Leave-one-out: full-fold Cross-Validation (maximum n possible)\n",
    "\n",
    "Only generalizing is not enough, we need to dodge over-fitting as well, which makes a new <b>test</b> set necessary. Test-data should <u>never</u> be used more than once!"
   ]
  }
 ],
 "metadata": {
  "kernelspec": {
   "display_name": "Python [conda env:TensorFlow]",
   "language": "python",
   "name": "conda-env-TensorFlow-py"
  },
  "language_info": {
   "codemirror_mode": {
    "name": "ipython",
    "version": 3
   },
   "file_extension": ".py",
   "mimetype": "text/x-python",
   "name": "python",
   "nbconvert_exporter": "python",
   "pygments_lexer": "ipython3",
   "version": "3.5.5"
  }
 },
 "nbformat": 4,
 "nbformat_minor": 2
}
